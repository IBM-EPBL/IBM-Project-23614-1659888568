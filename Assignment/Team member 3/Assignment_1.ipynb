{
  "metadata": {
    "colab": {
      "provenance": [],
      "collapsed_sections": []
    },
    "kernelspec": {
      "name": "python",
      "display_name": "Python (Pyodide)",
      "language": "python"
    },
    "language_info": {
      "codemirror_mode": {
        "name": "python",
        "version": 3
      },
      "file_extension": ".py",
      "mimetype": "text/x-python",
      "name": "python",
      "nbconvert_exporter": "python",
      "pygments_lexer": "ipython3",
      "version": "3.8"
    }
  },
  "nbformat_minor": 0,
  "nbformat": 4,
  "cells": [
    {
      "cell_type": "markdown",
      "source": [
        "# Basic Python"
      ],
      "metadata": {
        "id": "McSxJAwcOdZ1"
      }
    },
    {
      "cell_type": "markdown",
      "source": [
        "## 1. Split this string"
      ],
      "metadata": {
        "id": "CU48hgo4Owz5"
      }
    },
    {
      "cell_type": "code",
      "source": [
        "msg = \"Hi there Sam!\""
      ],
      "metadata": {
        "id": "s07c7JK7Oqt-",
        "trusted": true
      },
      "execution_count": null,
      "outputs": []
    },
    {
      "cell_type": "code",
      "source": [
        "msg.split()"
      ],
      "metadata": {
        "id": "6mGVa3SQYLkb",
        "trusted": true,
        "outputId": "48f54ec5-9cea-4076-8d40-f680abcd1d57"
      },
      "execution_count": null,
      "outputs": [
        {
          "execution_count": 6,
          "output_type": "execute_result",
          "data": {
            "text/plain": "['Hi', 'there', 'Sam!']"
          },
          "metadata": {}
        }
      ]
    },
    {
      "cell_type": "markdown",
      "source": [
        "## 2. Use .format() to print the following string. \n",
        "\n",
        "### Output should be: The diameter of Earth is 12742 kilometers."
      ],
      "metadata": {
        "id": "GH1QBn8HP375"
      }
    },
    {
      "cell_type": "code",
      "source": [
        "planetName = \"Earth\"\n",
        "planetDiameter = 12742"
      ],
      "metadata": {
        "id": "_ZHoml3kPqic",
        "trusted": true
      },
      "execution_count": null,
      "outputs": []
    },
    {
      "cell_type": "code",
      "source": [
        "\"The diameter of {} is {} Kilometers.\".format(planetName,planetDiameter)"
      ],
      "metadata": {
        "id": "HyRyJv6CYPb4",
        "trusted": true,
        "outputId": "e9b15355-e95b-4334-848d-b14baead10ff"
      },
      "execution_count": null,
      "outputs": [
        {
          "execution_count": 10,
          "output_type": "execute_result",
          "data": {
            "text/plain": "'The diameter of Earth is 12742 Kilometers.'"
          },
          "metadata": {}
        }
      ]
    },
    {
      "cell_type": "markdown",
      "source": [
        "## 3. In this nest dictionary grab the word \"hello\""
      ],
      "metadata": {
        "id": "KE74ZEwkRExZ"
      }
    },
    {
      "cell_type": "code",
      "source": [
        "dtry = {'k1':[1,2,3,{'tricky':['oh','man','inception',{'target':[1,2,3,'hello']}]}]}"
      ],
      "metadata": {
        "id": "fcVwbCc1QrQI",
        "trusted": true
      },
      "execution_count": 1,
      "outputs": []
    },
    {
      "cell_type": "code",
      "source": [
        "dtry['k1'][3]['tricky'][3]['target'][3]"
      ],
      "metadata": {
        "id": "MvbkMZpXYRaw",
        "trusted": true,
        "colab": {
          "base_uri": "https://localhost:8080/",
          "height": 37
        },
        "outputId": "eb43f56b-a497-4c64-aa77-b51b45bd3347"
      },
      "execution_count": 2,
      "outputs": [
        {
          "output_type": "execute_result",
          "data": {
            "text/plain": [
              "'hello'"
            ],
            "application/vnd.google.colaboratory.intrinsic+json": {
              "type": "string"
            }
          },
          "metadata": {},
          "execution_count": 2
        }
      ]
    },
    {
      "cell_type": "markdown",
      "source": [
        "# Numpy"
      ],
      "metadata": {
        "id": "bw0vVp-9ddjv"
      }
    },
    {
      "cell_type": "code",
      "source": [
        "import numpy as np"
      ],
      "metadata": {
        "id": "LLiE_TYrhA1O"
      },
      "execution_count": null,
      "outputs": []
    },
    {
      "cell_type": "markdown",
      "source": [
        "## 4.1 Create an array of 10 zeros? \n",
        "## 4.2 Create an array of 10 fives?"
      ],
      "metadata": {
        "id": "wOg8hinbgx30",
        "tags": []
      }
    },
    {
      "cell_type": "code",
      "source": [
        "import numpy as np\n",
        "np.zeros(10)"
      ],
      "metadata": {
        "id": "NHrirmgCYXvU",
        "trusted": true,
        "outputId": "9833cfeb-65dc-4d79-a1d7-6b6c73024861"
      },
      "execution_count": null,
      "outputs": [
        {
          "execution_count": 44,
          "output_type": "execute_result",
          "data": {
            "text/plain": "array([0., 0., 0., 0., 0., 0., 0., 0., 0., 0.])"
          },
          "metadata": {}
        }
      ]
    },
    {
      "cell_type": "code",
      "source": [
        "import numpy as np\n",
        "arr = np.full(10,5 , dtype = 'int')\n",
        "print(arr)"
      ],
      "metadata": {
        "id": "e4005lsTYXxx",
        "trusted": true,
        "outputId": "bcf47bf1-dbf2-4d36-970e-9ee1a109840f"
      },
      "execution_count": null,
      "outputs": [
        {
          "name": "stdout",
          "text": "[5 5 5 5 5 5 5 5 5 5]\n",
          "output_type": "stream"
        }
      ]
    },
    {
      "cell_type": "markdown",
      "source": [
        "## 5. Create an array of all the even integers from 20 to 35"
      ],
      "metadata": {
        "id": "gZHHDUBvrMX4"
      }
    },
    {
      "cell_type": "code",
      "source": [
        "import numpy as np\n",
        "arr = np.arange(20, 35,2)\n",
        "print(arr)"
      ],
      "metadata": {
        "id": "oAI2tbU2Yag-",
        "trusted": true,
        "outputId": "589af66f-9574-4a99-92f1-18005f762fa6"
      },
      "execution_count": null,
      "outputs": [
        {
          "name": "stdout",
          "text": "[20 22 24 26 28 30 32 34]\n",
          "output_type": "stream"
        }
      ]
    },
    {
      "cell_type": "markdown",
      "source": [
        "## 6. Create a 3x3 matrix with values ranging from 0 to 8"
      ],
      "metadata": {
        "id": "NaOM308NsRpZ"
      }
    },
    {
      "cell_type": "code",
      "source": [
        "import numpy as np\n",
        "mat = np.array([[0,1,2],\n",
        "                [3,4,5],\n",
        "                [6,7,8]])\n",
        "print(mat)"
      ],
      "metadata": {
        "id": "tOlEVH7BYceE",
        "trusted": true,
        "outputId": "0ee1ad46-3e40-42d6-8152-94f3b74623d7"
      },
      "execution_count": null,
      "outputs": [
        {
          "name": "stdout",
          "text": "[[0 1 2]\n [3 4 5]\n [6 7 8]]\n",
          "output_type": "stream"
        }
      ]
    },
    {
      "cell_type": "markdown",
      "source": [
        "## 7. Concatenate arr1 and arr2 \n",
        "## arr1 = np.array([1, 2, 3]), arr2 = np.array([4, 5, 6])"
      ],
      "metadata": {
        "id": "hQ0dnhAQuU_p"
      }
    },
    {
      "cell_type": "code",
      "source": [
        "import numpy as np\n",
        "arr1 = np.array([1, 2, 3])\n",
        "arr2 = np.array([4, 5, 6])\n",
        "concatArr = np.concatenate((arr1,arr2))\n",
        "print(concatArr)"
      ],
      "metadata": {
        "id": "rAPSw97aYfE0",
        "trusted": true,
        "outputId": "125d5efd-de3d-4eba-e6bb-d97e72eb5b67"
      },
      "execution_count": null,
      "outputs": [
        {
          "name": "stdout",
          "text": "[1 2 3 4 5 6]\n",
          "output_type": "stream"
        }
      ]
    },
    {
      "cell_type": "markdown",
      "source": [
        "# Pandas"
      ],
      "metadata": {
        "id": "dlPEY9DRwZga"
      }
    },
    {
      "cell_type": "markdown",
      "source": [
        "## 8. Create a dataframe with 3 rows and 2 columns"
      ],
      "metadata": {
        "id": "ijoYW51zwr87"
      }
    },
    {
      "cell_type": "code",
      "source": [
        "import pandas as pd\n"
      ],
      "metadata": {
        "id": "T5OxJRZ8uvR7"
      },
      "execution_count": null,
      "outputs": []
    },
    {
      "cell_type": "code",
      "source": [
        "import pandas as pd\n",
        "data = {'val1': [4,5,6],\n",
        "        'val2': [7, 8, 9]}\n",
        "dataFrame = pd.DataFrame(data, index=[0,\n",
        "                            1,\n",
        "                            2])\n",
        "print(dataFrame)"
      ],
      "metadata": {
        "id": "xNpI_XXoYhs0",
        "trusted": true,
        "outputId": "84659380-4426-4e95-e671-9d498e6fb0bb"
      },
      "execution_count": null,
      "outputs": [
        {
          "name": "stdout",
          "text": "   val1  val2\n0     4     7\n1     5     8\n2     6     9\n",
          "output_type": "stream"
        }
      ]
    },
    {
      "cell_type": "markdown",
      "source": [
        "## 9. Generate the series of dates from 1st Jan, 2023 to 10th Feb, 2023"
      ],
      "metadata": {
        "id": "UXSmdNclyJQD"
      }
    },
    {
      "cell_type": "code",
      "source": [
        "import pandas as jerish\n",
        "dates = jerish.date_range(start ='01-01-2023', \n",
        "         end ='02-10-2023', freq ='24H')\n",
        "for date in dates:\n",
        "    print(date)"
      ],
      "metadata": {
        "id": "dgyC0JhVYl4F",
        "trusted": true,
        "outputId": "2f252556-4790-49d0-e3dc-16f1269bbfd1"
      },
      "execution_count": null,
      "outputs": [
        {
          "name": "stdout",
          "text": "2023-01-01 00:00:00\n2023-01-02 00:00:00\n2023-01-03 00:00:00\n2023-01-04 00:00:00\n2023-01-05 00:00:00\n2023-01-06 00:00:00\n2023-01-07 00:00:00\n2023-01-08 00:00:00\n2023-01-09 00:00:00\n2023-01-10 00:00:00\n2023-01-11 00:00:00\n2023-01-12 00:00:00\n2023-01-13 00:00:00\n2023-01-14 00:00:00\n2023-01-15 00:00:00\n2023-01-16 00:00:00\n2023-01-17 00:00:00\n2023-01-18 00:00:00\n2023-01-19 00:00:00\n2023-01-20 00:00:00\n2023-01-21 00:00:00\n2023-01-22 00:00:00\n2023-01-23 00:00:00\n2023-01-24 00:00:00\n2023-01-25 00:00:00\n2023-01-26 00:00:00\n2023-01-27 00:00:00\n2023-01-28 00:00:00\n2023-01-29 00:00:00\n2023-01-30 00:00:00\n2023-01-31 00:00:00\n2023-02-01 00:00:00\n2023-02-02 00:00:00\n2023-02-03 00:00:00\n2023-02-04 00:00:00\n2023-02-05 00:00:00\n2023-02-06 00:00:00\n2023-02-07 00:00:00\n2023-02-08 00:00:00\n2023-02-09 00:00:00\n2023-02-10 00:00:00\n",
          "output_type": "stream"
        }
      ]
    },
    {
      "cell_type": "markdown",
      "source": [
        "## 10. Create 2D list to DataFrame\n",
        "\n",
        "lists = [[1, 'aaa', 22],\n",
        "         [2, 'bbb', 25],\n",
        "         [3, 'ccc', 24]]"
      ],
      "metadata": {
        "id": "ZizSetD-y5az",
        "tags": []
      }
    },
    {
      "cell_type": "code",
      "source": [
        "data = [[1, 'aaa', 22], [2, 'bbb', 25], [3, 'ccc', 24]]"
      ],
      "metadata": {
        "id": "_XMC8aEt0llB"
      },
      "execution_count": null,
      "outputs": []
    },
    {
      "cell_type": "code",
      "source": [
        "import pandas as pd  \n",
        "data = [[1, 'aaa', 22], [2, 'bbb', 25], [3, 'ccc', 24]]  \n",
        "dataFrame = pd.DataFrame(data, columns =['number', 'alpha','number']) \n",
        "print(dataFrame )"
      ],
      "metadata": {
        "id": "knH76sDKYsVX",
        "trusted": true,
        "outputId": "cdc647f0-fd95-4657-9935-ba5074dc1e25"
      },
      "execution_count": null,
      "outputs": [
        {
          "name": "stdout",
          "text": "   number alpha  number\n0       1   aaa      22\n1       2   bbb      25\n2       3   ccc      24\n",
          "output_type": "stream"
        }
      ]
    }
  ]
}